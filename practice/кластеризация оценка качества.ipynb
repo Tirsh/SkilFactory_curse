{
 "cells": [
  {
   "cell_type": "markdown",
   "id": "graphic-symposium",
   "metadata": {},
   "source": [
    "Коэффициент силуэта"
   ]
  },
  {
   "cell_type": "code",
   "execution_count": 11,
   "id": "secret-assessment",
   "metadata": {},
   "outputs": [],
   "source": [
    "import numpy as np\n",
    "import matplotlib.pyplot as plt\n",
    "from sklearn import datasets\n",
    "\n",
    "n_samples = 1500\n",
    "dataset = datasets.make_blobs(n_samples=n_samples, centers=2, center_box=(-7.0, 7.5),\n",
    "                              cluster_std=[1.4, 1.7],\n",
    "                              random_state=42)\n",
    "X_2, _ = datasets.make_blobs(n_samples=n_samples, random_state=170, centers=[[-4, -3]], cluster_std=[1.9])\n",
    "transformation = [[1.2, -0.8], [-0.4, 1.7]]\n",
    "X_2 = np.dot(X_2, transformation)\n",
    "X, y = np.concatenate((dataset[0], X_2)), np.concatenate((dataset[1], np.array([2] * len(X_2))))\n",
    "\n"
   ]
  },
  {
   "cell_type": "code",
   "execution_count": 12,
   "id": "deluxe-singapore",
   "metadata": {},
   "outputs": [
    {
     "data": {
      "text/plain": [
       "0.5131209788437305"
      ]
     },
     "execution_count": 12,
     "metadata": {},
     "output_type": "execute_result"
    }
   ],
   "source": [
    "#Коэффициент силуэта можно посчитать при помощи реализации из библиотеки sklearn:\n",
    "\n",
    "from sklearn.cluster import KMeans\n",
    "from sklearn.metrics import silhouette_score\n",
    "\n",
    "# сначала получим предсказанные кластеры при помощи метода кластеризации\n",
    "kmeans = KMeans(n_clusters=3, random_state=42)\n",
    "kmeans.fit(X)\n",
    "kmeans_pred = kmeans.labels_\n",
    "\n",
    "# теперь посчитаем коэффициент силуэта\n",
    "silhouette_score(X=X, labels=kmeans_pred, metric='euclidean')\n",
    "\n"
   ]
  },
  {
   "cell_type": "markdown",
   "id": "english-variance",
   "metadata": {},
   "source": [
    "Однородность"
   ]
  },
  {
   "cell_type": "code",
   "execution_count": 13,
   "id": "confused-visibility",
   "metadata": {},
   "outputs": [
    {
     "data": {
      "text/plain": [
       "0.8025180661661425"
      ]
     },
     "execution_count": 13,
     "metadata": {},
     "output_type": "execute_result"
    }
   ],
   "source": [
    "from sklearn.cluster import KMeans\n",
    "from sklearn.metrics.cluster import homogeneity_score\n",
    "from sklearn.preprocessing import StandardScaler\n",
    "\n",
    "\n",
    "# сначала получим предсказанные кластеры при помощи метода кластеризации\n",
    "kmeans = KMeans(n_clusters=3, random_state=42)\n",
    "X = StandardScaler().fit_transform(X)\n",
    "kmeans.fit(X)\n",
    "kmeans_pred = kmeans.labels_ # теперь посчитаем однородность \n",
    "homogeneity_score(labels_true=y, labels_pred=kmeans_pred)"
   ]
  },
  {
   "cell_type": "code",
   "execution_count": 15,
   "id": "accessible-tobacco",
   "metadata": {},
   "outputs": [
    {
     "data": {
      "text/plain": [
       "0.9339791347507893"
      ]
     },
     "execution_count": 15,
     "metadata": {},
     "output_type": "execute_result"
    }
   ],
   "source": [
    "from sklearn.mixture import GaussianMixture\n",
    "gausmix = GaussianMixture(n_components=3, random_state=42).fit(X)\n",
    "gausspred = gausmix.predict(X)\n",
    "homogeneity_score(labels_true=y, labels_pred=gausspred)"
   ]
  },
  {
   "cell_type": "code",
   "execution_count": 22,
   "id": "loaded-malta",
   "metadata": {},
   "outputs": [
    {
     "data": {
      "text/plain": [
       "0.9099781767383747"
      ]
     },
     "execution_count": 22,
     "metadata": {},
     "output_type": "execute_result"
    }
   ],
   "source": [
    "from sklearn.cluster import AgglomerativeClustering, DBSCAN\n",
    "agglom = AgglomerativeClustering(n_clusters=3).fit(X)\n",
    "agglompred = agglom.labels_\n",
    "homogeneity_score(labels_true=y, labels_pred=agglompred)"
   ]
  },
  {
   "cell_type": "code",
   "execution_count": 30,
   "id": "graduate-encyclopedia",
   "metadata": {},
   "outputs": [
    {
     "data": {
      "text/plain": [
       "0.00044465831964150197"
      ]
     },
     "execution_count": 30,
     "metadata": {},
     "output_type": "execute_result"
    }
   ],
   "source": [
    "dbscan = DBSCAN(eps=0.9, min_samples=35).fit(X)\n",
    "dbscanpred = dbscan.labels_\n",
    "homogeneity_score(labels_true=y, labels_pred=dbscanpred)"
   ]
  },
  {
   "cell_type": "markdown",
   "id": "tamil-gauge",
   "metadata": {},
   "source": [
    "Полнота"
   ]
  },
  {
   "cell_type": "code",
   "execution_count": 31,
   "id": "funky-coordinator",
   "metadata": {},
   "outputs": [
    {
     "data": {
      "text/plain": [
       "0.7808712092278982"
      ]
     },
     "execution_count": 31,
     "metadata": {},
     "output_type": "execute_result"
    }
   ],
   "source": [
    "from sklearn.cluster import KMeans\n",
    "from sklearn.metrics.cluster import completeness_score\n",
    "\n",
    "# сначала получим предсказанные кластеры при помощи метода кластеризации\n",
    "kmeans = KMeans(n_clusters=3, random_state=42)\n",
    "kmeans.fit(X)\n",
    "kmeans_pred = kmeans.labels_\n",
    "\n",
    "# теперь посчитаем полноту\n",
    "completeness_score(labels_true=y, labels_pred=kmeans_pred)"
   ]
  },
  {
   "cell_type": "code",
   "execution_count": 32,
   "id": "blond-intent",
   "metadata": {},
   "outputs": [
    {
     "data": {
      "text/plain": [
       "0.9325740421656737"
      ]
     },
     "execution_count": 32,
     "metadata": {},
     "output_type": "execute_result"
    }
   ],
   "source": [
    "completeness_score(labels_true=y, labels_pred=gausspred)"
   ]
  },
  {
   "cell_type": "markdown",
   "id": "injured-afghanistan",
   "metadata": {},
   "source": [
    "V-мера."
   ]
  },
  {
   "cell_type": "code",
   "execution_count": 33,
   "id": "irish-recall",
   "metadata": {},
   "outputs": [
    {
     "data": {
      "text/plain": [
       "0.791546668267586"
      ]
     },
     "execution_count": 33,
     "metadata": {},
     "output_type": "execute_result"
    }
   ],
   "source": [
    "from sklearn.cluster import KMeans\n",
    "from sklearn.metrics.cluster import v_measure_score\n",
    "\n",
    "# сначала получим предсказанные кластеры при помощи метода кластеризации\n",
    "kmeans = KMeans(n_clusters=3, random_state=42)\n",
    "kmeans.fit(X)\n",
    "kmeans_pred = kmeans.labels_\n",
    "\n",
    "# теперь посчитаем полноту\n",
    "v_measure_score(labels_true=y, labels_pred=kmeans_pred)"
   ]
  },
  {
   "cell_type": "code",
   "execution_count": 34,
   "id": "controversial-guitar",
   "metadata": {},
   "outputs": [
    {
     "data": {
      "text/plain": [
       "0.9332760595996924"
      ]
     },
     "execution_count": 34,
     "metadata": {},
     "output_type": "execute_result"
    }
   ],
   "source": [
    "v_measure_score(labels_true=y, labels_pred=gausspred)"
   ]
  },
  {
   "cell_type": "code",
   "execution_count": 35,
   "id": "lonely-packaging",
   "metadata": {},
   "outputs": [],
   "source": [
    "from sklearn.cluster import MiniBatchKMeans\n",
    "\n",
    "kmeans_mini_batch = MiniBatchKMeans(n_clusters=\n",
    "3, random_state=\n",
    "42)\n",
    "kmeans_mini_batch.fit(X)\n",
    "kmeans_mini_batch_pred = kmeans_mini_batch.labels_"
   ]
  },
  {
   "cell_type": "code",
   "execution_count": 36,
   "id": "surprised-moses",
   "metadata": {},
   "outputs": [
    {
     "data": {
      "text/plain": [
       "0.7583969521655418"
      ]
     },
     "execution_count": 36,
     "metadata": {},
     "output_type": "execute_result"
    }
   ],
   "source": [
    "v_measure_score(labels_true=y, labels_pred=kmeans_mini_batch_pred)"
   ]
  },
  {
   "cell_type": "code",
   "execution_count": null,
   "id": "comparative-island",
   "metadata": {},
   "outputs": [],
   "source": []
  }
 ],
 "metadata": {
  "kernelspec": {
   "display_name": "Python 3",
   "language": "python",
   "name": "python3"
  },
  "language_info": {
   "codemirror_mode": {
    "name": "ipython",
    "version": 3
   },
   "file_extension": ".py",
   "mimetype": "text/x-python",
   "name": "python",
   "nbconvert_exporter": "python",
   "pygments_lexer": "ipython3",
   "version": "3.8.5"
  }
 },
 "nbformat": 4,
 "nbformat_minor": 5
}
