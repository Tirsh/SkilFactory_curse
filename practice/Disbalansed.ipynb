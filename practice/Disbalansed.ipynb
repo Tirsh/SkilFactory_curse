{
 "cells": [
  {
   "cell_type": "code",
   "execution_count": 59,
   "id": "parliamentary-collapse",
   "metadata": {},
   "outputs": [],
   "source": [
    "import pandas as pd\n",
    "from sklearn.tree import DecisionTreeClassifier\n",
    "from sklearn.model_selection import train_test_split, StratifiedShuffleSplit\n",
    "from sklearn.metrics import f1_score, accuracy_score\n",
    "\n",
    "vis_data = pd.read_csv(\"data/train.csv\", encoding = 'ISO-8859-1', low_memory = False)"
   ]
  },
  {
   "cell_type": "code",
   "execution_count": 60,
   "id": "athletic-prison",
   "metadata": {},
   "outputs": [],
   "source": [
    "data = vis_data[['fine_amount', 'state_fee', 'late_fee',\n",
    "           'discount_amount', 'balance_due', 'compliance']].dropna()"
   ]
  },
  {
   "cell_type": "code",
   "execution_count": 61,
   "id": "buried-transition",
   "metadata": {},
   "outputs": [
    {
     "name": "stdout",
     "output_type": "stream",
     "text": [
      "<class 'pandas.core.frame.DataFrame'>\n",
      "Int64Index: 159880 entries, 0 to 250293\n",
      "Data columns (total 6 columns):\n",
      " #   Column           Non-Null Count   Dtype  \n",
      "---  ------           --------------   -----  \n",
      " 0   fine_amount      159880 non-null  float64\n",
      " 1   state_fee        159880 non-null  float64\n",
      " 2   late_fee         159880 non-null  float64\n",
      " 3   discount_amount  159880 non-null  float64\n",
      " 4   balance_due      159880 non-null  float64\n",
      " 5   compliance       159880 non-null  float64\n",
      "dtypes: float64(6)\n",
      "memory usage: 8.5 MB\n"
     ]
    }
   ],
   "source": [
    "data.info()"
   ]
  },
  {
   "cell_type": "code",
   "execution_count": 62,
   "id": "frozen-delhi",
   "metadata": {},
   "outputs": [],
   "source": [
    "X = data.drop('compliance', axis=1)\n",
    "Y = data['compliance']\n",
    "X_train, X_test, Y_train, Y_test = train_test_split(X, Y, test_size=0.3, shuffle=False)\n",
    "model = DecisionTreeClassifier(random_state=23)\n",
    "model.fit(X_train, Y_train)\n",
    "Y_train_pred = model.predict(X_train)\n",
    "Y_test_pred = model.predict(X_test)\n",
    "unbalansed_train = f1_score(Y_train, Y_train_pred)\n",
    "unbalansed_test = f1_score(Y_test, Y_test_pred)"
   ]
  },
  {
   "cell_type": "code",
   "execution_count": 63,
   "id": "unnecessary-password",
   "metadata": {},
   "outputs": [],
   "source": [
    "n = data['compliance'].value_counts()[1.0]"
   ]
  },
  {
   "cell_type": "code",
   "execution_count": 84,
   "id": "driven-briefing",
   "metadata": {},
   "outputs": [
    {
     "data": {
      "text/plain": [
       "11597"
      ]
     },
     "execution_count": 84,
     "metadata": {},
     "output_type": "execute_result"
    }
   ],
   "source": [
    "n"
   ]
  },
  {
   "cell_type": "code",
   "execution_count": 74,
   "id": "stuffed-instruction",
   "metadata": {},
   "outputs": [],
   "source": [
    "new_data = pd.concat([data[data['compliance'] != 1.0].iloc[:n,:], data[data['compliance'] == 1.0]])"
   ]
  },
  {
   "cell_type": "code",
   "execution_count": 75,
   "id": "valid-gossip",
   "metadata": {},
   "outputs": [
    {
     "data": {
      "text/html": [
       "<div>\n",
       "<style scoped>\n",
       "    .dataframe tbody tr th:only-of-type {\n",
       "        vertical-align: middle;\n",
       "    }\n",
       "\n",
       "    .dataframe tbody tr th {\n",
       "        vertical-align: top;\n",
       "    }\n",
       "\n",
       "    .dataframe thead th {\n",
       "        text-align: right;\n",
       "    }\n",
       "</style>\n",
       "<table border=\"1\" class=\"dataframe\">\n",
       "  <thead>\n",
       "    <tr style=\"text-align: right;\">\n",
       "      <th></th>\n",
       "      <th>fine_amount</th>\n",
       "      <th>state_fee</th>\n",
       "      <th>late_fee</th>\n",
       "      <th>discount_amount</th>\n",
       "      <th>balance_due</th>\n",
       "      <th>compliance</th>\n",
       "    </tr>\n",
       "  </thead>\n",
       "  <tbody>\n",
       "    <tr>\n",
       "      <th>0</th>\n",
       "      <td>250.0</td>\n",
       "      <td>10.0</td>\n",
       "      <td>25.0</td>\n",
       "      <td>0.0</td>\n",
       "      <td>305.0</td>\n",
       "      <td>0.0</td>\n",
       "    </tr>\n",
       "    <tr>\n",
       "      <th>5</th>\n",
       "      <td>250.0</td>\n",
       "      <td>10.0</td>\n",
       "      <td>25.0</td>\n",
       "      <td>0.0</td>\n",
       "      <td>305.0</td>\n",
       "      <td>0.0</td>\n",
       "    </tr>\n",
       "    <tr>\n",
       "      <th>6</th>\n",
       "      <td>750.0</td>\n",
       "      <td>10.0</td>\n",
       "      <td>75.0</td>\n",
       "      <td>0.0</td>\n",
       "      <td>855.0</td>\n",
       "      <td>0.0</td>\n",
       "    </tr>\n",
       "    <tr>\n",
       "      <th>7</th>\n",
       "      <td>100.0</td>\n",
       "      <td>10.0</td>\n",
       "      <td>10.0</td>\n",
       "      <td>0.0</td>\n",
       "      <td>140.0</td>\n",
       "      <td>0.0</td>\n",
       "    </tr>\n",
       "    <tr>\n",
       "      <th>8</th>\n",
       "      <td>100.0</td>\n",
       "      <td>10.0</td>\n",
       "      <td>10.0</td>\n",
       "      <td>0.0</td>\n",
       "      <td>140.0</td>\n",
       "      <td>0.0</td>\n",
       "    </tr>\n",
       "    <tr>\n",
       "      <th>9</th>\n",
       "      <td>750.0</td>\n",
       "      <td>10.0</td>\n",
       "      <td>75.0</td>\n",
       "      <td>0.0</td>\n",
       "      <td>855.0</td>\n",
       "      <td>0.0</td>\n",
       "    </tr>\n",
       "    <tr>\n",
       "      <th>12</th>\n",
       "      <td>750.0</td>\n",
       "      <td>10.0</td>\n",
       "      <td>75.0</td>\n",
       "      <td>0.0</td>\n",
       "      <td>855.0</td>\n",
       "      <td>0.0</td>\n",
       "    </tr>\n",
       "    <tr>\n",
       "      <th>13</th>\n",
       "      <td>750.0</td>\n",
       "      <td>10.0</td>\n",
       "      <td>75.0</td>\n",
       "      <td>0.0</td>\n",
       "      <td>855.0</td>\n",
       "      <td>0.0</td>\n",
       "    </tr>\n",
       "    <tr>\n",
       "      <th>14</th>\n",
       "      <td>750.0</td>\n",
       "      <td>10.0</td>\n",
       "      <td>75.0</td>\n",
       "      <td>0.0</td>\n",
       "      <td>855.0</td>\n",
       "      <td>0.0</td>\n",
       "    </tr>\n",
       "    <tr>\n",
       "      <th>21</th>\n",
       "      <td>750.0</td>\n",
       "      <td>10.0</td>\n",
       "      <td>75.0</td>\n",
       "      <td>0.0</td>\n",
       "      <td>855.0</td>\n",
       "      <td>0.0</td>\n",
       "    </tr>\n",
       "  </tbody>\n",
       "</table>\n",
       "</div>"
      ],
      "text/plain": [
       "    fine_amount  state_fee  late_fee  discount_amount  balance_due  compliance\n",
       "0         250.0       10.0      25.0              0.0        305.0         0.0\n",
       "5         250.0       10.0      25.0              0.0        305.0         0.0\n",
       "6         750.0       10.0      75.0              0.0        855.0         0.0\n",
       "7         100.0       10.0      10.0              0.0        140.0         0.0\n",
       "8         100.0       10.0      10.0              0.0        140.0         0.0\n",
       "9         750.0       10.0      75.0              0.0        855.0         0.0\n",
       "12        750.0       10.0      75.0              0.0        855.0         0.0\n",
       "13        750.0       10.0      75.0              0.0        855.0         0.0\n",
       "14        750.0       10.0      75.0              0.0        855.0         0.0\n",
       "21        750.0       10.0      75.0              0.0        855.0         0.0"
      ]
     },
     "execution_count": 75,
     "metadata": {},
     "output_type": "execute_result"
    }
   ],
   "source": [
    "new_data.head(10)"
   ]
  },
  {
   "cell_type": "code",
   "execution_count": 76,
   "id": "overhead-dominican",
   "metadata": {},
   "outputs": [],
   "source": [
    "new_X = new_data.drop('compliance', axis=1)\n",
    "new_Y = new_data['compliance']\n",
    "new_X_train, new_X_test, new_Y_train, new_Y_test = train_test_split(new_X, new_Y, test_size=0.3)\n",
    "new_model = DecisionTreeClassifier(random_state=23)\n",
    "new_model.fit(X_train, Y_train)\n",
    "new_Y_train_pred = new_model.predict(new_X_train)\n",
    "new_Y_test_pred = new_model.predict(new_X_test)\n",
    "balansed_train = f1_score(new_Y_train, new_Y_train_pred)\n",
    "balansed_test = f1_score(new_Y_test, new_Y_test_pred)"
   ]
  },
  {
   "cell_type": "code",
   "execution_count": 77,
   "id": "political-trade",
   "metadata": {},
   "outputs": [],
   "source": [
    "result = balansed_test - unbalansed_test"
   ]
  },
  {
   "cell_type": "code",
   "execution_count": 78,
   "id": "initial-witness",
   "metadata": {},
   "outputs": [
    {
     "data": {
      "text/plain": [
       "0.6733519034354689"
      ]
     },
     "execution_count": 78,
     "metadata": {},
     "output_type": "execute_result"
    }
   ],
   "source": [
    "balansed_test"
   ]
  },
  {
   "cell_type": "code",
   "execution_count": 79,
   "id": "single-thumb",
   "metadata": {},
   "outputs": [
    {
     "data": {
      "text/plain": [
       "0.0    11597\n",
       "1.0    11597\n",
       "Name: compliance, dtype: int64"
      ]
     },
     "execution_count": 79,
     "metadata": {},
     "output_type": "execute_result"
    }
   ],
   "source": [
    "new_data['compliance'].value_counts()"
   ]
  },
  {
   "cell_type": "code",
   "execution_count": 80,
   "id": "indirect-walnut",
   "metadata": {},
   "outputs": [
    {
     "data": {
      "text/plain": [
       "0.09312499905945593"
      ]
     },
     "execution_count": 80,
     "metadata": {},
     "output_type": "execute_result"
    }
   ],
   "source": [
    "result"
   ]
  },
  {
   "cell_type": "code",
   "execution_count": 85,
   "id": "intensive-converter",
   "metadata": {},
   "outputs": [],
   "source": [
    "from sklearn.tree import DecisionTreeClassifier\n",
    "from sklearn.model_selection import train_test_split, StratifiedShuffleSplit\n",
    "from sklearn.metrics import f1_score, accuracy_score\n",
    "vis_data = pd.read_csv(\"data/train.csv\", encoding = 'ISO-8859-1', low_memory = False)\n",
    "# Для несбалансированной\n",
    "vis_data = vis_data[['fine_amount','state_fee','late_fee','discount_amount','balance_due','compliance']]\n",
    "vis_data = vis_data.dropna(axis=0)\n",
    "X = vis_data.drop(['compliance'], axis=1)\n",
    "y = vis_data['compliance']\n",
    "X_train, X_test, y_train, y_test = train_test_split(X, y, test_size=0.3, shuffle=False)\n",
    "clf = DecisionTreeClassifier(random_state=23)\n",
    "clf.fit(X_train, y_train)\n",
    "from sklearn.metrics import f1_score\n",
    "y_pred_imbalanced_train = clf.predict(X_train)\n",
    "f1_train_imb = f1_score(y_train, y_pred_imbalanced_train)\n",
    "y_pred_imbalanced_test = clf.predict(X_test)\n",
    "f1_val_imb = f1_score(y_test, y_pred_imbalanced_test)\n",
    "#Для сбалансированной\n",
    "vis_data = pd.read_csv(\"data/train.csv\", encoding = 'ISO-8859-1', low_memory = False)\n",
    "vis_data = vis_data[['fine_amount','state_fee','late_fee','discount_amount','balance_due','compliance']]\n",
    "vis_data = vis_data.dropna(axis=0)\n",
    "pos = vis_data[vis_data['compliance'] == 1]\n",
    "neg = vis_data[vis_data['compliance'] == 0]\n",
    "neg_final = neg.iloc[:11597]\n",
    "result = pd.concat([neg_final, pos])\n",
    "X = result.drop(['compliance'], axis=1)\n",
    "y = result['compliance']\n",
    "X_train, X_test, y_train, y_test = train_test_split(X, y, test_size=0.3, shuffle=False)\n",
    "clf = DecisionTreeClassifier(random_state=23)\n",
    "clf.fit(X_train, y_train)\n",
    "y_pred_balanced_train = clf.predict(X_train)\n",
    "f1_train_bal = f1_score(y_train, y_pred_balanced_train)\n",
    "y_pred_balanced_test = clf.predict(X_test)\n",
    "f1_val_bal = f1_score(y_test, y_pred_balanced_test)\n",
    "#получается 0\n",
    "result = f1_val_bal - f1_val_imb"
   ]
  },
  {
   "cell_type": "code",
   "execution_count": 86,
   "id": "passive-trance",
   "metadata": {},
   "outputs": [
    {
     "data": {
      "text/plain": [
       "0.18272749967696011"
      ]
     },
     "execution_count": 86,
     "metadata": {},
     "output_type": "execute_result"
    }
   ],
   "source": [
    "result"
   ]
  },
  {
   "cell_type": "code",
   "execution_count": null,
   "id": "entertaining-reproduction",
   "metadata": {},
   "outputs": [],
   "source": []
  }
 ],
 "metadata": {
  "kernelspec": {
   "display_name": "Python 3",
   "language": "python",
   "name": "python3"
  },
  "language_info": {
   "codemirror_mode": {
    "name": "ipython",
    "version": 3
   },
   "file_extension": ".py",
   "mimetype": "text/x-python",
   "name": "python",
   "nbconvert_exporter": "python",
   "pygments_lexer": "ipython3",
   "version": "3.8.5"
  }
 },
 "nbformat": 4,
 "nbformat_minor": 5
}
