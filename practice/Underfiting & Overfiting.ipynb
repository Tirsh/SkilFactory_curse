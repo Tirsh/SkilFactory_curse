{
 "cells": [
  {
   "cell_type": "code",
   "execution_count": 27,
   "id": "operational-safety",
   "metadata": {},
   "outputs": [],
   "source": [
    "import pandas as pd\n",
    "from sklearn.tree import DecisionTreeClassifier\n",
    "from sklearn.model_selection import train_test_split\n",
    "from sklearn.metrics import f1_score"
   ]
  },
  {
   "cell_type": "code",
   "execution_count": 28,
   "id": "increased-quantum",
   "metadata": {},
   "outputs": [],
   "source": [
    "vis_data = pd.read_csv('data/train.csv', encoding = 'ISO-8859-1', low_memory = False)"
   ]
  },
  {
   "cell_type": "code",
   "execution_count": 29,
   "id": "substantial-battlefield",
   "metadata": {},
   "outputs": [],
   "source": [
    "data = vis_data[['fine_amount', 'state_fee', 'late_fee',\n",
    "           'discount_amount', 'balance_due', 'compliance']]"
   ]
  },
  {
   "cell_type": "code",
   "execution_count": 30,
   "id": "white-strengthening",
   "metadata": {},
   "outputs": [
    {
     "name": "stdout",
     "output_type": "stream",
     "text": [
      "<class 'pandas.core.frame.DataFrame'>\n",
      "RangeIndex: 250306 entries, 0 to 250305\n",
      "Data columns (total 6 columns):\n",
      " #   Column           Non-Null Count   Dtype  \n",
      "---  ------           --------------   -----  \n",
      " 0   fine_amount      250305 non-null  float64\n",
      " 1   state_fee        250306 non-null  float64\n",
      " 2   late_fee         250306 non-null  float64\n",
      " 3   discount_amount  250306 non-null  float64\n",
      " 4   balance_due      250306 non-null  float64\n",
      " 5   compliance       159880 non-null  float64\n",
      "dtypes: float64(6)\n",
      "memory usage: 11.5 MB\n"
     ]
    }
   ],
   "source": [
    "data.info()"
   ]
  },
  {
   "cell_type": "code",
   "execution_count": 31,
   "id": "beginning-person",
   "metadata": {},
   "outputs": [],
   "source": [
    "df=data.dropna()"
   ]
  },
  {
   "cell_type": "code",
   "execution_count": 33,
   "id": "ahead-precipitation",
   "metadata": {},
   "outputs": [],
   "source": [
    "X = df.drop('compliance', axis=1)\n",
    "Y = df['compliance']"
   ]
  },
  {
   "cell_type": "code",
   "execution_count": 34,
   "id": "loaded-martial",
   "metadata": {},
   "outputs": [],
   "source": [
    "X_train, X_test, Y_train, Y_test = train_test_split(X, Y, test_size=0.3, shuffle=False)"
   ]
  },
  {
   "cell_type": "code",
   "execution_count": 43,
   "id": "tropical-homework",
   "metadata": {},
   "outputs": [],
   "source": [
    "model = DecisionTreeClassifier(random_state=23)\n",
    "model.fit(X_train, Y_train)\n",
    "Y_train_pred = model.predict(X_train)\n",
    "Y_test_pred = model.predict(X_test)\n",
    "result = Y_train_pred - Y_test_pred"
   ]
  },
  {
   "cell_type": "code",
   "execution_count": 49,
   "id": "educated-copying",
   "metadata": {},
   "outputs": [
    {
     "name": "stdout",
     "output_type": "stream",
     "text": [
      "Train= 0.66\n",
      "Test= 0.58\n"
     ]
    }
   ],
   "source": [
    "print('Train= {:.2f}'.format(f1_score(Y_train, Y_train_pred)))\n",
    "print('Test= {:.2f}'.format(f1_score(Y_test, Y_test_pred)))"
   ]
  },
  {
   "cell_type": "code",
   "execution_count": null,
   "id": "capital-dover",
   "metadata": {},
   "outputs": [],
   "source": []
  }
 ],
 "metadata": {
  "kernelspec": {
   "display_name": "Python 3",
   "language": "python",
   "name": "python3"
  },
  "language_info": {
   "codemirror_mode": {
    "name": "ipython",
    "version": 3
   },
   "file_extension": ".py",
   "mimetype": "text/x-python",
   "name": "python",
   "nbconvert_exporter": "python",
   "pygments_lexer": "ipython3",
   "version": "3.8.5"
  }
 },
 "nbformat": 4,
 "nbformat_minor": 5
}
