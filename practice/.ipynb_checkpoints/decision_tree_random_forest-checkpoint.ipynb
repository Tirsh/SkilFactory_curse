{
 "cells": [
  {
   "cell_type": "code",
   "execution_count": 1,
   "id": "pharmaceutical-privilege",
   "metadata": {},
   "outputs": [],
   "source": [
    "import pandas as pd\n",
    "import numpy as np\n",
    "import matplotlib.pyplot as plt\n",
    "\n",
    "from sklearn.model_selection import cross_val_score, train_test_split\n",
    "from sklearn.ensemble import BaggingClassifier, RandomForestClassifier\n",
    "from sklearn.tree import DecisionTreeClassifier\n",
    "from sklearn.linear_model import LogisticRegression\n",
    "from sklearn.preprocessing import StandardScaler\n",
    "df = pd.read_csv('data/HR-dataset.csv')"
   ]
  },
  {
   "cell_type": "code",
   "execution_count": 2,
   "id": "governing-signal",
   "metadata": {},
   "outputs": [
    {
     "name": "stdout",
     "output_type": "stream",
     "text": [
      "Index(['satisfaction_level', 'last_evaluation', 'number_project',\n",
      "       'average_montly_hours', 'time_spend_company', 'Work_accident',\n",
      "       'promotion_last_5years', 'dept', 'salary'],\n",
      "      dtype='object')\n"
     ]
    }
   ],
   "source": [
    "np.random.seed(42)\n",
    "%matplotlib inline\n",
    "%config InlineBackend.figure_format = 'retina'\n",
    "\n",
    "target = 'left'\n",
    "features = df.columns.drop(target)\n",
    "features = features.drop('empid')  # Удалим идентификатор пользователя как нерепрезентативный признак\n",
    "print(features)"
   ]
  },
  {
   "cell_type": "code",
   "execution_count": 3,
   "id": "earned-amino",
   "metadata": {},
   "outputs": [],
   "source": [
    "X, y = df[features].copy(), df[target]"
   ]
  },
  {
   "cell_type": "markdown",
   "id": "double-ontario",
   "metadata": {},
   "source": [
    "Заменим идентификатор отдела, к которому относился сотрудник, на количество людей в отделе, а зарплату — на ординальную категорию. Масштабируем признаки для последующего сравнения результатов."
   ]
  },
  {
   "cell_type": "code",
   "execution_count": 4,
   "id": "suffering-finder",
   "metadata": {},
   "outputs": [],
   "source": [
    "salary_ordinals = {'low': 1, 'medium': 2, 'high': 3}\n",
    "\n",
    "X['dept'] = X['dept'].apply(X['dept'].value_counts().get)\n",
    "X['salary'] = X['salary'].apply(salary_ordinals.get)"
   ]
  },
  {
   "cell_type": "code",
   "execution_count": 5,
   "id": "alien-senior",
   "metadata": {},
   "outputs": [],
   "source": [
    "scaler = StandardScaler()\n",
    "X = pd.DataFrame(data=scaler.fit_transform(X), columns=X.columns)"
   ]
  },
  {
   "cell_type": "markdown",
   "id": "prospective-latino",
   "metadata": {},
   "source": [
    "В дальнейшем будем оценивать качество модели на кросс-валидации на пяти фолдах при помощи точности (accuracy)"
   ]
  },
  {
   "cell_type": "code",
   "execution_count": 6,
   "id": "certain-nebraska",
   "metadata": {},
   "outputs": [],
   "source": [
    "def estimate_accuracy(clf, X, y, cv=5):\n",
    "    return cross_val_score(clf, X, y, cv=5, scoring='accuracy').mean()"
   ]
  },
  {
   "cell_type": "markdown",
   "id": "specific-bennett",
   "metadata": {},
   "source": [
    "Бэггинг (bagging, сокр. от bootstrap aggregating)  — метод построения композиции алгоритмов, в котором каждый алгоритм строится независимо от других на подвыборках обучающей выборки. Итоговый алгоритм принимает решения посредством голосования среди всех алгоритмов (возвращается самый частый ответ)."
   ]
  },
  {
   "cell_type": "markdown",
   "id": "informative-jewelry",
   "metadata": {},
   "source": [
    "Посмотрим на точность одного дерева."
   ]
  },
  {
   "cell_type": "code",
   "execution_count": 7,
   "id": "decimal-roberts",
   "metadata": {},
   "outputs": [
    {
     "name": "stdout",
     "output_type": "stream",
     "text": [
      "Decision tree: 0.9731310659108592\n"
     ]
    }
   ],
   "source": [
    "tree = DecisionTreeClassifier(max_depth=30)\n",
    "print(\"Decision tree:\", estimate_accuracy(tree, X, y))"
   ]
  },
  {
   "cell_type": "markdown",
   "id": "funny-laptop",
   "metadata": {},
   "source": [
    "Проведём бэггинг: для этого достаточно обернуть исходный классификатор в BaggingClassifier"
   ]
  },
  {
   "cell_type": "code",
   "execution_count": 8,
   "id": "quick-greene",
   "metadata": {},
   "outputs": [
    {
     "name": "stdout",
     "output_type": "stream",
     "text": [
      "Decision tree bagging: 0.9880660886962321\n"
     ]
    }
   ],
   "source": [
    "bagging_trees = BaggingClassifier(tree)\n",
    "print(\"Decision tree bagging:\", estimate_accuracy(bagging_trees, X, y))"
   ]
  },
  {
   "cell_type": "markdown",
   "id": "nutritional-circle",
   "metadata": {},
   "source": [
    "Композиция отдельных деревьев показывает себя лучше, чем одно дерево. Структура дерева серьёзно зависит от обучающей выборки. Это значит, что если немного изменить обучающую выборку, то дерево сильно изменится. Бэггинг идеально подходит в этом случае, поскольку композиция алгоритмов при помощи голосования работает наилучшим образом, когда модели различны."
   ]
  },
  {
   "cell_type": "markdown",
   "id": "tired-officer",
   "metadata": {},
   "source": [
    "Увеличить различность построенных деревьев можно, указав параметры max_features и max_depth.\n"
   ]
  },
  {
   "cell_type": "code",
   "execution_count": 9,
   "id": "burning-graduate",
   "metadata": {},
   "outputs": [
    {
     "name": "stdout",
     "output_type": "stream",
     "text": [
      "Random tree: 0.9778657330221184\n"
     ]
    }
   ],
   "source": [
    "random_tree = DecisionTreeClassifier(max_features=int(np.sqrt(len(features))), max_depth=30)\n",
    "print(\"Random tree:\", estimate_accuracy(random_tree, X, y))"
   ]
  },
  {
   "cell_type": "code",
   "execution_count": 10,
   "id": "incorporate-witness",
   "metadata": {},
   "outputs": [
    {
     "name": "stdout",
     "output_type": "stream",
     "text": [
      "Random tree bagging: 0.9902662443036567\n"
     ]
    }
   ],
   "source": [
    "bagging_random_trees = BaggingClassifier(random_tree)\n",
    "print(\"Random tree bagging:\", estimate_accuracy(bagging_random_trees, X, y))"
   ]
  },
  {
   "cell_type": "markdown",
   "id": "anticipated-pitch",
   "metadata": {},
   "source": [
    "Именно так внутри и работает так называемый случайный лес (Random Forest): он обучает набор деревьев (параметр n_esimators), каждое из которых обучается на подмножестве признаков (Random Subspaces) и на подмножестве объектов (bootstrap). То есть случайный лес получается случайным по двум этим параметрам, а ответы аггрегируются при помощи голосования."
   ]
  },
  {
   "cell_type": "markdown",
   "id": "accurate-listing",
   "metadata": {},
   "source": [
    "Стандартная эвристика: в задаче классификации брать квадратный корень числа признаков, а в задаче регрессии — треть числа признаков."
   ]
  },
  {
   "cell_type": "code",
   "execution_count": 11,
   "id": "complicated-mailing",
   "metadata": {},
   "outputs": [
    {
     "name": "stdout",
     "output_type": "stream",
     "text": [
      "Random Forest: 0.9920663109925532\n"
     ]
    }
   ],
   "source": [
    "random_forest = RandomForestClassifier(\n",
    "    n_estimators=100,\n",
    "    n_jobs=-1,\n",
    "    max_features=int(np.sqrt(len(features))),\n",
    "    max_depth=30)\n",
    "print(\"Random Forest:\", estimate_accuracy(random_forest, X, y))"
   ]
  },
  {
   "cell_type": "markdown",
   "id": "detected-athens",
   "metadata": {},
   "source": [
    "Ещё одно преимущество использования бэггинга для аггрегации моделей — получение оценки работы классификатора без дополнительного проведения кросс-валидации при помощи out-of-bag score. Это метод вычисления произвольной оценки качества во время обучения бэггинга. Для подсчёта требуется указать параметр oob_score = True, что имеет смысл при достаточном количестве деревьев."
   ]
  },
  {
   "cell_type": "code",
   "execution_count": 12,
   "id": "flush-willow",
   "metadata": {},
   "outputs": [
    {
     "data": {
      "text/plain": [
       "0.9929995333022201"
      ]
     },
     "execution_count": 12,
     "metadata": {},
     "output_type": "execute_result"
    }
   ],
   "source": [
    "random_forest = RandomForestClassifier(\n",
    "    n_estimators=100,\n",
    "    max_features=int(np.sqrt(len(features))),\n",
    "    max_depth=30,\n",
    "    oob_score=True,\n",
    "    n_jobs=-1\n",
    ")\n",
    "random_forest.fit(X, y)\n",
    "random_forest.oob_score_.mean()"
   ]
  },
  {
   "cell_type": "markdown",
   "id": "institutional-tiger",
   "metadata": {},
   "source": [
    "Метод бэггинга можно применять к произвольным алгоритмам, например, к логистической регрессии. "
   ]
  },
  {
   "cell_type": "code",
   "execution_count": 13,
   "id": "obvious-spencer",
   "metadata": {},
   "outputs": [
    {
     "name": "stdout",
     "output_type": "stream",
     "text": [
      "LR: 0.7709770367900411\n"
     ]
    }
   ],
   "source": [
    "lr = LogisticRegression(solver='saga', max_iter=200)\n",
    "lr.fit(X, y)\n",
    "print(\"LR:\", estimate_accuracy(lr, X, y))"
   ]
  },
  {
   "cell_type": "code",
   "execution_count": 14,
   "id": "useful-helicopter",
   "metadata": {},
   "outputs": [
    {
     "name": "stdout",
     "output_type": "stream",
     "text": [
      "Bagging for LR: 0.7701104368122708\n"
     ]
    }
   ],
   "source": [
    "random_logreg = BaggingClassifier(\n",
    "    lr,\n",
    "    n_estimators=10,\n",
    "    n_jobs=-1,\n",
    "    random_state=42\n",
    ")\n",
    "print(\"Bagging for LR:\", estimate_accuracy(random_logreg, X, y))"
   ]
  },
  {
   "cell_type": "markdown",
   "id": "subject-adobe",
   "metadata": {},
   "source": [
    "В её случае он не так сильно повышает качество, поскольку линейные модели не так сильно зависят от состава обучающей выборки. Попробуем убрать часть признаков."
   ]
  },
  {
   "cell_type": "code",
   "execution_count": 15,
   "id": "cardiac-times",
   "metadata": {},
   "outputs": [
    {
     "name": "stdout",
     "output_type": "stream",
     "text": [
      "Bagging for LR: 0.7569754140268978\n"
     ]
    }
   ],
   "source": [
    "random_logreg = BaggingClassifier(\n",
    "    lr,\n",
    "    n_estimators=10,\n",
    "    n_jobs=-1,\n",
    "    max_features=0.5,\n",
    "    random_state=42\n",
    ")\n",
    "print(\"Bagging for LR:\", estimate_accuracy(random_logreg, X, y))"
   ]
  },
  {
   "cell_type": "markdown",
   "id": "dramatic-annual",
   "metadata": {},
   "source": [
    "В случае линейной регрессии повышение разнообразности моделей не дает такого прироста, как с деревьями, поскольку модели сильно теряют в качестве. Случайный лес на примере нашей задачи справляется лучше."
   ]
  },
  {
   "cell_type": "markdown",
   "id": "latest-management",
   "metadata": {},
   "source": [
    "Сравнение логистической регрессии и случайного леса:"
   ]
  },
  {
   "cell_type": "code",
   "execution_count": null,
   "id": "mathematical-thompson",
   "metadata": {},
   "outputs": [],
   "source": []
  },
  {
   "cell_type": "code",
   "execution_count": 16,
   "id": "variable-rabbit",
   "metadata": {},
   "outputs": [],
   "source": [
    "from sklearn.datasets import load_digits"
   ]
  },
  {
   "cell_type": "code",
   "execution_count": 17,
   "id": "occasional-found",
   "metadata": {},
   "outputs": [],
   "source": [
    "digits = load_digits()"
   ]
  },
  {
   "cell_type": "code",
   "execution_count": 18,
   "id": "consistent-grain",
   "metadata": {},
   "outputs": [],
   "source": [
    "X = digits.data\n",
    "y = digits.target"
   ]
  },
  {
   "cell_type": "code",
   "execution_count": 19,
   "id": "southwest-battlefield",
   "metadata": {},
   "outputs": [
    {
     "data": {
      "text/plain": [
       "64"
      ]
     },
     "execution_count": 19,
     "metadata": {},
     "output_type": "execute_result"
    }
   ],
   "source": [
    "X.shape[1]"
   ]
  },
  {
   "cell_type": "code",
   "execution_count": 20,
   "id": "planned-conflict",
   "metadata": {},
   "outputs": [
    {
     "name": "stdout",
     "output_type": "stream",
     "text": [
      ".. _digits_dataset:\n",
      "\n",
      "Optical recognition of handwritten digits dataset\n",
      "--------------------------------------------------\n",
      "\n",
      "**Data Set Characteristics:**\n",
      "\n",
      "    :Number of Instances: 1797\n",
      "    :Number of Attributes: 64\n",
      "    :Attribute Information: 8x8 image of integer pixels in the range 0..16.\n",
      "    :Missing Attribute Values: None\n",
      "    :Creator: E. Alpaydin (alpaydin '@' boun.edu.tr)\n",
      "    :Date: July; 1998\n",
      "\n",
      "This is a copy of the test set of the UCI ML hand-written digits datasets\n",
      "https://archive.ics.uci.edu/ml/datasets/Optical+Recognition+of+Handwritten+Digits\n",
      "\n",
      "The data set contains images of hand-written digits: 10 classes where\n",
      "each class refers to a digit.\n",
      "\n",
      "Preprocessing programs made available by NIST were used to extract\n",
      "normalized bitmaps of handwritten digits from a preprinted form. From a\n",
      "total of 43 people, 30 contributed to the training set and different 13\n",
      "to the test set. 32x32 bitmaps are divided into nonoverlapping blocks of\n",
      "4x4 and the number of on pixels are counted in each block. This generates\n",
      "an input matrix of 8x8 where each element is an integer in the range\n",
      "0..16. This reduces dimensionality and gives invariance to small\n",
      "distortions.\n",
      "\n",
      "For info on NIST preprocessing routines, see M. D. Garris, J. L. Blue, G.\n",
      "T. Candela, D. L. Dimmick, J. Geist, P. J. Grother, S. A. Janet, and C.\n",
      "L. Wilson, NIST Form-Based Handprint Recognition System, NISTIR 5469,\n",
      "1994.\n",
      "\n",
      ".. topic:: References\n",
      "\n",
      "  - C. Kaynak (1995) Methods of Combining Multiple Classifiers and Their\n",
      "    Applications to Handwritten Digit Recognition, MSc Thesis, Institute of\n",
      "    Graduate Studies in Science and Engineering, Bogazici University.\n",
      "  - E. Alpaydin, C. Kaynak (1998) Cascading Classifiers, Kybernetika.\n",
      "  - Ken Tang and Ponnuthurai N. Suganthan and Xi Yao and A. Kai Qin.\n",
      "    Linear dimensionalityreduction using relevance weighted LDA. School of\n",
      "    Electrical and Electronic Engineering Nanyang Technological University.\n",
      "    2005.\n",
      "  - Claudio Gentile. A New Approximate Maximal Margin Classification\n",
      "    Algorithm. NIPS. 2000.\n",
      "\n"
     ]
    }
   ],
   "source": [
    "print(digits.DESCR)"
   ]
  },
  {
   "cell_type": "code",
   "execution_count": 21,
   "id": "spectacular-spouse",
   "metadata": {},
   "outputs": [],
   "source": [
    "def test(estim, X, y):\n",
    "    return cross_val_score(estim, X, y, cv=10).mean()"
   ]
  },
  {
   "cell_type": "code",
   "execution_count": 22,
   "id": "recovered-bargain",
   "metadata": {},
   "outputs": [
    {
     "data": {
      "text/plain": [
       "0.8235723153320919"
      ]
     },
     "execution_count": 22,
     "metadata": {},
     "output_type": "execute_result"
    }
   ],
   "source": [
    "dtc =DecisionTreeClassifier()\n",
    "sqrt_dtc = DecisionTreeClassifier(max_features=int(np.sqrt(X.shape[1])))\n",
    "test(dtc, X, y)"
   ]
  },
  {
   "cell_type": "code",
   "execution_count": 23,
   "id": "solved-injury",
   "metadata": {},
   "outputs": [
    {
     "data": {
      "text/plain": [
       "0.9214990689013035"
      ]
     },
     "execution_count": 23,
     "metadata": {},
     "output_type": "execute_result"
    }
   ],
   "source": [
    "bgcl = BaggingClassifier(base_estimator=dtc, n_estimators=100)\n",
    "test(bgcl, X, y)"
   ]
  },
  {
   "cell_type": "code",
   "execution_count": 24,
   "id": "several-smith",
   "metadata": {},
   "outputs": [],
   "source": [
    "param_bgcl = BaggingClassifier(base_estimator=dtc, n_estimators=100, max_features=int(np.sqrt(X.shape[1])))"
   ]
  },
  {
   "cell_type": "code",
   "execution_count": 25,
   "id": "pending-guitar",
   "metadata": {},
   "outputs": [
    {
     "data": {
      "text/plain": [
       "0.9499006828057107"
      ]
     },
     "execution_count": 25,
     "metadata": {},
     "output_type": "execute_result"
    }
   ],
   "source": [
    "bgcl_param = BaggingClassifier(base_estimator=sqrt_dtc, n_estimators=100)\n",
    "test(bgcl_param, X, y)"
   ]
  },
  {
   "cell_type": "code",
   "execution_count": 26,
   "id": "geological-saying",
   "metadata": {},
   "outputs": [
    {
     "data": {
      "text/plain": [
       "0.9237647423960272"
      ]
     },
     "execution_count": 26,
     "metadata": {},
     "output_type": "execute_result"
    }
   ],
   "source": [
    "test(param_bgcl, X, y)"
   ]
  },
  {
   "cell_type": "code",
   "execution_count": 27,
   "id": "specialized-brooklyn",
   "metadata": {},
   "outputs": [],
   "source": [
    "rand_fclass = RandomForestClassifier(\n",
    "    n_estimators=500,\n",
    "    n_jobs=-1,\n",
    "    max_features=int(np.sqrt(X.shape[1])),\n",
    "    max_depth=30)"
   ]
  },
  {
   "cell_type": "code",
   "execution_count": 28,
   "id": "round-webster",
   "metadata": {},
   "outputs": [
    {
     "data": {
      "text/plain": [
       "0.9532495344506516"
      ]
     },
     "execution_count": 28,
     "metadata": {},
     "output_type": "execute_result"
    }
   ],
   "source": [
    "test(rand_fclass, X, y)"
   ]
  },
  {
   "cell_type": "code",
   "execution_count": 30,
   "id": "baking-costa",
   "metadata": {},
   "outputs": [
    {
     "name": "stdout",
     "output_type": "stream",
     "text": [
      "Automatically created module for IPython interactive environment\n"
     ]
    },
    {
     "data": {
      "image/png": "[encoded data removed]",
      "text/plain": [
       "<Figure size 432x288 with 1 Axes>"
      ]
     },
     "metadata": {
      "image/png": {
       "height": 262,
       "width": 392
      },
      "needs_background": "light"
     },
     "output_type": "display_data"
    }
   ],
   "source": [
    "import matplotlib.pyplot as plt\n",
    "\n",
    "from collections import OrderedDict\n",
    "from sklearn.datasets import make_classification\n",
    "from sklearn.ensemble import RandomForestClassifier\n",
    "\n",
    "# Author: Kian Ho <hui.kian.ho@gmail.com>\n",
    "#         Gilles Louppe <g.louppe@gmail.com>\n",
    "#         Andreas Mueller <amueller@ais.uni-bonn.de>\n",
    "#\n",
    "# License: BSD 3 Clause\n",
    "\n",
    "print(__doc__)\n",
    "\n",
    "RANDOM_STATE = 123\n",
    "\n",
    "# Generate a binary classification dataset.\n",
    "X, y = make_classification(n_samples=500, n_features=25,\n",
    "                           n_clusters_per_class=1, n_informative=15,\n",
    "                           random_state=RANDOM_STATE)\n",
    "\n",
    "# NOTE: Setting the `warm_start` construction parameter to `True` disables\n",
    "# support for parallelized ensembles but is necessary for tracking the OOB\n",
    "# error trajectory during training.\n",
    "ensemble_clfs = [\n",
    "    (\"RandomForestClassifier, max_features='sqrt'\",\n",
    "        RandomForestClassifier(warm_start=True, oob_score=True,\n",
    "                               max_features=\"sqrt\",\n",
    "                               random_state=RANDOM_STATE)),\n",
    "    (\"RandomForestClassifier, max_features='log2'\",\n",
    "        RandomForestClassifier(warm_start=True, max_features='log2',\n",
    "                               oob_score=True,\n",
    "                               random_state=RANDOM_STATE)),\n",
    "    (\"RandomForestClassifier, max_features=None\",\n",
    "        RandomForestClassifier(warm_start=True, max_features=None,\n",
    "                               oob_score=True,\n",
    "                               random_state=RANDOM_STATE))\n",
    "]\n",
    "\n",
    "# Map a classifier name to a list of (<n_estimators>, <error rate>) pairs.\n",
    "error_rate = OrderedDict((label, []) for label, _ in ensemble_clfs)\n",
    "\n",
    "# Range of `n_estimators` values to explore.\n",
    "min_estimators = 15\n",
    "max_estimators = 175\n",
    "\n",
    "for label, clf in ensemble_clfs:\n",
    "    for i in range(min_estimators, max_estimators + 1):\n",
    "        clf.set_params(n_estimators=i)\n",
    "        clf.fit(X, y)\n",
    "\n",
    "        # Record the OOB error for each `n_estimators=i` setting.\n",
    "        oob_error = 1 - clf.oob_score_\n",
    "        error_rate[label].append((i, oob_error))\n",
    "\n",
    "# Generate the \"OOB error rate\" vs. \"n_estimators\" plot.\n",
    "for label, clf_err in error_rate.items():\n",
    "    xs, ys = zip(*clf_err)\n",
    "    plt.plot(xs, ys, label=label)\n",
    "\n",
    "plt.xlim(min_estimators, max_estimators)\n",
    "plt.xlabel(\"n_estimators\")\n",
    "plt.ylabel(\"OOB error rate\")\n",
    "plt.legend(loc=\"upper right\")\n",
    "plt.show()"
   ]
  },
  {
   "cell_type": "code",
   "execution_count": 31,
   "id": "nutritional-anthony",
   "metadata": {},
   "outputs": [
    {
     "data": {
      "text/plain": [
       "OrderedDict([(\"RandomForestClassifier, max_features='sqrt'\",\n",
       "              [(15, 0.11399999999999999),\n",
       "               (16, 0.124),\n",
       "               (17, 0.10199999999999998),\n",
       "               (18, 0.10199999999999998),\n",
       "               (19, 0.09799999999999998),\n",
       "               (20, 0.09599999999999997),\n",
       "               (21, 0.08799999999999997),\n",
       "               (22, 0.08999999999999997),\n",
       "               (23, 0.08399999999999996),\n",
       "               (24, 0.07999999999999996),\n",
       "               (25, 0.07999999999999996),\n",
       "               (26, 0.08199999999999996),\n",
       "               (27, 0.08199999999999996),\n",
       "               (28, 0.08599999999999997),\n",
       "               (29, 0.08799999999999997),\n",
       "               (30, 0.08599999999999997),\n",
       "               (31, 0.08399999999999996),\n",
       "               (32, 0.08199999999999996),\n",
       "               (33, 0.07799999999999996),\n",
       "               (34, 0.08399999999999996),\n",
       "               (35, 0.08599999999999997),\n",
       "               (36, 0.08399999999999996),\n",
       "               (37, 0.07799999999999996),\n",
       "               (38, 0.07599999999999996),\n",
       "               (39, 0.07799999999999996),\n",
       "               (40, 0.07599999999999996),\n",
       "               (41, 0.07599999999999996),\n",
       "               (42, 0.07399999999999995),\n",
       "               (43, 0.07199999999999995),\n",
       "               (44, 0.07399999999999995),\n",
       "               (45, 0.07199999999999995),\n",
       "               (46, 0.06999999999999995),\n",
       "               (47, 0.06999999999999995),\n",
       "               (48, 0.06999999999999995),\n",
       "               (49, 0.07399999999999995),\n",
       "               (50, 0.06999999999999995),\n",
       "               (51, 0.07199999999999995),\n",
       "               (52, 0.06599999999999995),\n",
       "               (53, 0.06599999999999995),\n",
       "               (54, 0.06399999999999995),\n",
       "               (55, 0.06399999999999995),\n",
       "               (56, 0.06599999999999995),\n",
       "               (57, 0.06399999999999995),\n",
       "               (58, 0.06399999999999995),\n",
       "               (59, 0.06799999999999995),\n",
       "               (60, 0.06399999999999995),\n",
       "               (61, 0.06799999999999995),\n",
       "               (62, 0.06799999999999995),\n",
       "               (63, 0.06799999999999995),\n",
       "               (64, 0.06599999999999995),\n",
       "               (65, 0.06399999999999995),\n",
       "               (66, 0.06399999999999995),\n",
       "               (67, 0.06399999999999995),\n",
       "               (68, 0.06000000000000005),\n",
       "               (69, 0.06000000000000005),\n",
       "               (70, 0.06000000000000005),\n",
       "               (71, 0.05800000000000005),\n",
       "               (72, 0.06399999999999995),\n",
       "               (73, 0.062000000000000055),\n",
       "               (74, 0.06399999999999995),\n",
       "               (75, 0.06599999999999995),\n",
       "               (76, 0.06599999999999995),\n",
       "               (77, 0.06799999999999995),\n",
       "               (78, 0.06799999999999995),\n",
       "               (79, 0.06799999999999995),\n",
       "               (80, 0.06599999999999995),\n",
       "               (81, 0.06399999999999995),\n",
       "               (82, 0.062000000000000055),\n",
       "               (83, 0.062000000000000055),\n",
       "               (84, 0.06000000000000005),\n",
       "               (85, 0.06399999999999995),\n",
       "               (86, 0.06399999999999995),\n",
       "               (87, 0.06000000000000005),\n",
       "               (88, 0.05800000000000005),\n",
       "               (89, 0.06399999999999995),\n",
       "               (90, 0.06799999999999995),\n",
       "               (91, 0.06399999999999995),\n",
       "               (92, 0.062000000000000055),\n",
       "               (93, 0.05800000000000005),\n",
       "               (94, 0.05800000000000005),\n",
       "               (95, 0.05800000000000005),\n",
       "               (96, 0.052000000000000046),\n",
       "               (97, 0.052000000000000046),\n",
       "               (98, 0.052000000000000046),\n",
       "               (99, 0.05400000000000005),\n",
       "               (100, 0.05600000000000005),\n",
       "               (101, 0.05800000000000005),\n",
       "               (102, 0.06000000000000005),\n",
       "               (103, 0.05800000000000005),\n",
       "               (104, 0.05800000000000005),\n",
       "               (105, 0.05800000000000005),\n",
       "               (106, 0.05600000000000005),\n",
       "               (107, 0.05800000000000005),\n",
       "               (108, 0.05400000000000005),\n",
       "               (109, 0.05400000000000005),\n",
       "               (110, 0.05600000000000005),\n",
       "               (111, 0.05400000000000005),\n",
       "               (112, 0.050000000000000044),\n",
       "               (113, 0.05400000000000005),\n",
       "               (114, 0.052000000000000046),\n",
       "               (115, 0.052000000000000046),\n",
       "               (116, 0.06000000000000005),\n",
       "               (117, 0.06000000000000005),\n",
       "               (118, 0.06000000000000005),\n",
       "               (119, 0.05400000000000005),\n",
       "               (120, 0.05400000000000005),\n",
       "               (121, 0.05600000000000005),\n",
       "               (122, 0.06000000000000005),\n",
       "               (123, 0.05800000000000005),\n",
       "               (124, 0.05400000000000005),\n",
       "               (125, 0.05400000000000005),\n",
       "               (126, 0.05400000000000005),\n",
       "               (127, 0.05600000000000005),\n",
       "               (128, 0.05400000000000005),\n",
       "               (129, 0.05600000000000005),\n",
       "               (130, 0.05600000000000005),\n",
       "               (131, 0.05600000000000005),\n",
       "               (132, 0.05600000000000005),\n",
       "               (133, 0.05800000000000005),\n",
       "               (134, 0.05600000000000005),\n",
       "               (135, 0.05600000000000005),\n",
       "               (136, 0.05600000000000005),\n",
       "               (137, 0.05600000000000005),\n",
       "               (138, 0.05800000000000005),\n",
       "               (139, 0.05600000000000005),\n",
       "               (140, 0.052000000000000046),\n",
       "               (141, 0.05600000000000005),\n",
       "               (142, 0.052000000000000046),\n",
       "               (143, 0.05400000000000005),\n",
       "               (144, 0.05400000000000005),\n",
       "               (145, 0.05400000000000005),\n",
       "               (146, 0.05600000000000005),\n",
       "               (147, 0.05400000000000005),\n",
       "               (148, 0.05600000000000005),\n",
       "               (149, 0.05600000000000005),\n",
       "               (150, 0.05400000000000005),\n",
       "               (151, 0.05600000000000005),\n",
       "               (152, 0.05600000000000005),\n",
       "               (153, 0.05600000000000005),\n",
       "               (154, 0.05400000000000005),\n",
       "               (155, 0.05400000000000005),\n",
       "               (156, 0.05800000000000005),\n",
       "               (157, 0.05800000000000005),\n",
       "               (158, 0.05800000000000005),\n",
       "               (159, 0.05600000000000005),\n",
       "               (160, 0.05400000000000005),\n",
       "               (161, 0.05400000000000005),\n",
       "               (162, 0.05400000000000005),\n",
       "               (163, 0.05800000000000005),\n",
       "               (164, 0.05600000000000005),\n",
       "               (165, 0.05600000000000005),\n",
       "               (166, 0.05600000000000005),\n",
       "               (167, 0.05600000000000005),\n",
       "               (168, 0.05600000000000005),\n",
       "               (169, 0.05600000000000005),\n",
       "               (170, 0.05600000000000005),\n",
       "               (171, 0.05600000000000005),\n",
       "               (172, 0.05600000000000005),\n",
       "               (173, 0.05600000000000005),\n",
       "               (174, 0.05800000000000005),\n",
       "               (175, 0.05800000000000005)]),\n",
       "             (\"RandomForestClassifier, max_features='log2'\",\n",
       "              [(15, 0.14400000000000002),\n",
       "               (16, 0.138),\n",
       "               (17, 0.126),\n",
       "               (18, 0.132),\n",
       "               (19, 0.128),\n",
       "               (20, 0.124),\n",
       "               (21, 0.12),\n",
       "               (22, 0.124),\n",
       "               (23, 0.118),\n",
       "               (24, 0.11199999999999999),\n",
       "               (25, 0.11399999999999999),\n",
       "               (26, 0.11399999999999999),\n",
       "               (27, 0.11599999999999999),\n",
       "               (28, 0.11399999999999999),\n",
       "               (29, 0.10799999999999998),\n",
       "               (30, 0.10399999999999998),\n",
       "               (31, 0.09999999999999998),\n",
       "               (32, 0.10199999999999998),\n",
       "               (33, 0.10599999999999998),\n",
       "               (34, 0.09399999999999997),\n",
       "               (35, 0.09799999999999998),\n",
       "               (36, 0.08799999999999997),\n",
       "               (37, 0.08999999999999997),\n",
       "               (38, 0.08799999999999997),\n",
       "               (39, 0.08799999999999997),\n",
       "               (40, 0.08799999999999997),\n",
       "               (41, 0.08199999999999996),\n",
       "               (42, 0.08199999999999996),\n",
       "               (43, 0.07999999999999996),\n",
       "               (44, 0.07999999999999996),\n",
       "               (45, 0.07999999999999996),\n",
       "               (46, 0.07799999999999996),\n",
       "               (47, 0.07799999999999996),\n",
       "               (48, 0.07199999999999995),\n",
       "               (49, 0.07199999999999995),\n",
       "               (50, 0.06599999999999995),\n",
       "               (51, 0.06599999999999995),\n",
       "               (52, 0.06799999999999995),\n",
       "               (53, 0.06999999999999995),\n",
       "               (54, 0.07199999999999995),\n",
       "               (55, 0.06999999999999995),\n",
       "               (56, 0.06999999999999995),\n",
       "               (57, 0.06799999999999995),\n",
       "               (58, 0.06999999999999995),\n",
       "               (59, 0.06599999999999995),\n",
       "               (60, 0.06599999999999995),\n",
       "               (61, 0.06799999999999995),\n",
       "               (62, 0.07399999999999995),\n",
       "               (63, 0.07199999999999995),\n",
       "               (64, 0.07199999999999995),\n",
       "               (65, 0.06999999999999995),\n",
       "               (66, 0.06999999999999995),\n",
       "               (67, 0.06999999999999995),\n",
       "               (68, 0.06799999999999995),\n",
       "               (69, 0.06999999999999995),\n",
       "               (70, 0.06799999999999995),\n",
       "               (71, 0.06799999999999995),\n",
       "               (72, 0.06799999999999995),\n",
       "               (73, 0.06799999999999995),\n",
       "               (74, 0.06799999999999995),\n",
       "               (75, 0.06799999999999995),\n",
       "               (76, 0.06399999999999995),\n",
       "               (77, 0.06599999999999995),\n",
       "               (78, 0.06399999999999995),\n",
       "               (79, 0.06599999999999995),\n",
       "               (80, 0.06599999999999995),\n",
       "               (81, 0.06799999999999995),\n",
       "               (82, 0.06799999999999995),\n",
       "               (83, 0.06799999999999995),\n",
       "               (84, 0.06799999999999995),\n",
       "               (85, 0.06999999999999995),\n",
       "               (86, 0.06999999999999995),\n",
       "               (87, 0.07199999999999995),\n",
       "               (88, 0.06999999999999995),\n",
       "               (89, 0.07399999999999995),\n",
       "               (90, 0.07799999999999996),\n",
       "               (91, 0.07799999999999996),\n",
       "               (92, 0.07999999999999996),\n",
       "               (93, 0.07799999999999996),\n",
       "               (94, 0.07999999999999996),\n",
       "               (95, 0.07799999999999996),\n",
       "               (96, 0.07799999999999996),\n",
       "               (97, 0.07799999999999996),\n",
       "               (98, 0.07799999999999996),\n",
       "               (99, 0.07799999999999996),\n",
       "               (100, 0.07599999999999996),\n",
       "               (101, 0.07599999999999996),\n",
       "               (102, 0.07399999999999995),\n",
       "               (103, 0.07199999999999995),\n",
       "               (104, 0.06999999999999995),\n",
       "               (105, 0.06799999999999995),\n",
       "               (106, 0.06799999999999995),\n",
       "               (107, 0.06799999999999995),\n",
       "               (108, 0.06599999999999995),\n",
       "               (109, 0.06599999999999995),\n",
       "               (110, 0.06999999999999995),\n",
       "               (111, 0.06599999999999995),\n",
       "               (112, 0.06599999999999995),\n",
       "               (113, 0.06999999999999995),\n",
       "               (114, 0.06999999999999995),\n",
       "               (115, 0.06999999999999995),\n",
       "               (116, 0.06999999999999995),\n",
       "               (117, 0.06599999999999995),\n",
       "               (118, 0.06599999999999995),\n",
       "               (119, 0.06599999999999995),\n",
       "               (120, 0.06799999999999995),\n",
       "               (121, 0.06599999999999995),\n",
       "               (122, 0.06799999999999995),\n",
       "               (123, 0.06999999999999995),\n",
       "               (124, 0.06799999999999995),\n",
       "               (125, 0.06999999999999995),\n",
       "               (126, 0.07199999999999995),\n",
       "               (127, 0.06999999999999995),\n",
       "               (128, 0.06999999999999995),\n",
       "               (129, 0.07199999999999995),\n",
       "               (130, 0.07199999999999995),\n",
       "               (131, 0.07399999999999995),\n",
       "               (132, 0.07199999999999995),\n",
       "               (133, 0.06999999999999995),\n",
       "               (134, 0.06999999999999995),\n",
       "               (135, 0.07199999999999995),\n",
       "               (136, 0.06999999999999995),\n",
       "               (137, 0.06999999999999995),\n",
       "               (138, 0.06999999999999995),\n",
       "               (139, 0.07199999999999995),\n",
       "               (140, 0.06799999999999995),\n",
       "               (141, 0.06799999999999995),\n",
       "               (142, 0.06799999999999995),\n",
       "               (143, 0.06999999999999995),\n",
       "               (144, 0.06799999999999995),\n",
       "               (145, 0.06799999999999995),\n",
       "               (146, 0.06599999999999995),\n",
       "               (147, 0.06599999999999995),\n",
       "               (148, 0.06799999999999995),\n",
       "               (149, 0.06399999999999995),\n",
       "               (150, 0.06399999999999995),\n",
       "               (151, 0.06599999999999995),\n",
       "               (152, 0.06599999999999995),\n",
       "               (153, 0.06599999999999995),\n",
       "               (154, 0.06399999999999995),\n",
       "               (155, 0.06399999999999995),\n",
       "               (156, 0.06399999999999995),\n",
       "               (157, 0.06599999999999995),\n",
       "               (158, 0.06399999999999995),\n",
       "               (159, 0.06399999999999995),\n",
       "               (160, 0.06399999999999995),\n",
       "               (161, 0.06399999999999995),\n",
       "               (162, 0.06399999999999995),\n",
       "               (163, 0.06599999999999995),\n",
       "               (164, 0.06799999999999995),\n",
       "               (165, 0.06599999999999995),\n",
       "               (166, 0.06399999999999995),\n",
       "               (167, 0.06399999999999995),\n",
       "               (168, 0.06399999999999995),\n",
       "               (169, 0.062000000000000055),\n",
       "               (170, 0.06399999999999995),\n",
       "               (171, 0.06399999999999995),\n",
       "               (172, 0.06399999999999995),\n",
       "               (173, 0.062000000000000055),\n",
       "               (174, 0.06399999999999995),\n",
       "               (175, 0.06399999999999995)]),\n",
       "             ('RandomForestClassifier, max_features=None',\n",
       "              [(15, 0.10999999999999999),\n",
       "               (16, 0.10199999999999998),\n",
       "               (17, 0.08999999999999997),\n",
       "               (18, 0.09399999999999997),\n",
       "               (19, 0.08599999999999997),\n",
       "               (20, 0.08199999999999996),\n",
       "               (21, 0.08799999999999997),\n",
       "               (22, 0.09399999999999997),\n",
       "               (23, 0.08999999999999997),\n",
       "               (24, 0.08599999999999997),\n",
       "               (25, 0.08799999999999997),\n",
       "               (26, 0.08599999999999997),\n",
       "               (27, 0.09399999999999997),\n",
       "               (28, 0.08999999999999997),\n",
       "               (29, 0.08999999999999997),\n",
       "               (30, 0.09199999999999997),\n",
       "               (31, 0.08999999999999997),\n",
       "               (32, 0.09199999999999997),\n",
       "               (33, 0.08999999999999997),\n",
       "               (34, 0.09199999999999997),\n",
       "               (35, 0.09599999999999997),\n",
       "               (36, 0.09399999999999997),\n",
       "               (37, 0.09399999999999997),\n",
       "               (38, 0.08399999999999996),\n",
       "               (39, 0.08399999999999996),\n",
       "               (40, 0.08999999999999997),\n",
       "               (41, 0.09399999999999997),\n",
       "               (42, 0.09199999999999997),\n",
       "               (43, 0.08599999999999997),\n",
       "               (44, 0.08199999999999996),\n",
       "               (45, 0.08999999999999997),\n",
       "               (46, 0.08799999999999997),\n",
       "               (47, 0.08599999999999997),\n",
       "               (48, 0.08399999999999996),\n",
       "               (49, 0.08599999999999997),\n",
       "               (50, 0.08599999999999997),\n",
       "               (51, 0.08599999999999997),\n",
       "               (52, 0.08799999999999997),\n",
       "               (53, 0.08599999999999997),\n",
       "               (54, 0.08399999999999996),\n",
       "               (55, 0.08799999999999997),\n",
       "               (56, 0.08799999999999997),\n",
       "               (57, 0.08799999999999997),\n",
       "               (58, 0.08799999999999997),\n",
       "               (59, 0.08399999999999996),\n",
       "               (60, 0.08399999999999996),\n",
       "               (61, 0.08399999999999996),\n",
       "               (62, 0.08599999999999997),\n",
       "               (63, 0.08199999999999996),\n",
       "               (64, 0.08199999999999996),\n",
       "               (65, 0.08199999999999996),\n",
       "               (66, 0.07999999999999996),\n",
       "               (67, 0.08199999999999996),\n",
       "               (68, 0.08199999999999996),\n",
       "               (69, 0.08199999999999996),\n",
       "               (70, 0.08199999999999996),\n",
       "               (71, 0.08199999999999996),\n",
       "               (72, 0.08199999999999996),\n",
       "               (73, 0.08199999999999996),\n",
       "               (74, 0.08199999999999996),\n",
       "               (75, 0.08199999999999996),\n",
       "               (76, 0.07999999999999996),\n",
       "               (77, 0.08199999999999996),\n",
       "               (78, 0.08399999999999996),\n",
       "               (79, 0.08399999999999996),\n",
       "               (80, 0.08399999999999996),\n",
       "               (81, 0.08399999999999996),\n",
       "               (82, 0.08599999999999997),\n",
       "               (83, 0.08799999999999997),\n",
       "               (84, 0.08799999999999997),\n",
       "               (85, 0.08999999999999997),\n",
       "               (86, 0.08999999999999997),\n",
       "               (87, 0.08999999999999997),\n",
       "               (88, 0.08799999999999997),\n",
       "               (89, 0.08599999999999997),\n",
       "               (90, 0.08599999999999997),\n",
       "               (91, 0.08599999999999997),\n",
       "               (92, 0.08399999999999996),\n",
       "               (93, 0.08199999999999996),\n",
       "               (94, 0.08399999999999996),\n",
       "               (95, 0.07999999999999996),\n",
       "               (96, 0.07799999999999996),\n",
       "               (97, 0.07799999999999996),\n",
       "               (98, 0.07799999999999996),\n",
       "               (99, 0.07599999999999996),\n",
       "               (100, 0.07599999999999996),\n",
       "               (101, 0.07599999999999996),\n",
       "               (102, 0.07799999999999996),\n",
       "               (103, 0.07799999999999996),\n",
       "               (104, 0.08199999999999996),\n",
       "               (105, 0.08199999999999996),\n",
       "               (106, 0.08199999999999996),\n",
       "               (107, 0.08199999999999996),\n",
       "               (108, 0.08199999999999996),\n",
       "               (109, 0.08199999999999996),\n",
       "               (110, 0.07999999999999996),\n",
       "               (111, 0.07999999999999996),\n",
       "               (112, 0.07999999999999996),\n",
       "               (113, 0.07999999999999996),\n",
       "               (114, 0.07799999999999996),\n",
       "               (115, 0.07799999999999996),\n",
       "               (116, 0.07799999999999996),\n",
       "               (117, 0.07799999999999996),\n",
       "               (118, 0.07799999999999996),\n",
       "               (119, 0.07599999999999996),\n",
       "               (120, 0.07799999999999996),\n",
       "               (121, 0.07799999999999996),\n",
       "               (122, 0.07999999999999996),\n",
       "               (123, 0.07999999999999996),\n",
       "               (124, 0.07999999999999996),\n",
       "               (125, 0.07999999999999996),\n",
       "               (126, 0.08199999999999996),\n",
       "               (127, 0.08399999999999996),\n",
       "               (128, 0.08399999999999996),\n",
       "               (129, 0.08399999999999996),\n",
       "               (130, 0.08399999999999996),\n",
       "               (131, 0.08399999999999996),\n",
       "               (132, 0.08199999999999996),\n",
       "               (133, 0.08199999999999996),\n",
       "               (134, 0.08199999999999996),\n",
       "               (135, 0.08199999999999996),\n",
       "               (136, 0.08399999999999996),\n",
       "               (137, 0.08199999999999996),\n",
       "               (138, 0.08199999999999996),\n",
       "               (139, 0.08199999999999996),\n",
       "               (140, 0.08199999999999996),\n",
       "               (141, 0.08199999999999996),\n",
       "               (142, 0.08199999999999996),\n",
       "               (143, 0.08199999999999996),\n",
       "               (144, 0.07999999999999996),\n",
       "               (145, 0.08199999999999996),\n",
       "               (146, 0.07999999999999996),\n",
       "               (147, 0.07999999999999996),\n",
       "               (148, 0.08199999999999996),\n",
       "               (149, 0.08199999999999996),\n",
       "               (150, 0.07999999999999996),\n",
       "               (151, 0.08199999999999996),\n",
       "               (152, 0.08199999999999996),\n",
       "               (153, 0.08199999999999996),\n",
       "               (154, 0.08199999999999996),\n",
       "               (155, 0.08199999999999996),\n",
       "               (156, 0.08199999999999996),\n",
       "               (157, 0.08199999999999996),\n",
       "               (158, 0.08199999999999996),\n",
       "               (159, 0.07999999999999996),\n",
       "               (160, 0.08199999999999996),\n",
       "               (161, 0.08199999999999996),\n",
       "               (162, 0.08199999999999996),\n",
       "               (163, 0.07999999999999996),\n",
       "               (164, 0.07999999999999996),\n",
       "               (165, 0.07999999999999996),\n",
       "               (166, 0.07999999999999996),\n",
       "               (167, 0.07999999999999996),\n",
       "               (168, 0.07999999999999996),\n",
       "               (169, 0.08199999999999996),\n",
       "               (170, 0.08199999999999996),\n",
       "               (171, 0.08199999999999996),\n",
       "               (172, 0.08399999999999996),\n",
       "               (173, 0.08399999999999996),\n",
       "               (174, 0.08399999999999996),\n",
       "               (175, 0.08199999999999996)])])"
      ]
     },
     "execution_count": 31,
     "metadata": {},
     "output_type": "execute_result"
    }
   ],
   "source": [
    "error_rate"
   ]
  },
  {
   "cell_type": "code",
   "execution_count": null,
   "id": "asian-uncle",
   "metadata": {},
   "outputs": [],
   "source": []
  }
 ],
 "metadata": {
  "kernelspec": {
   "display_name": "Python 3",
   "language": "python",
   "name": "python3"
  },
  "language_info": {
   "codemirror_mode": {
    "name": "ipython",
    "version": 3
   },
   "file_extension": ".py",
   "mimetype": "text/x-python",
   "name": "python",
   "nbconvert_exporter": "python",
   "pygments_lexer": "ipython3",
   "version": "3.8.6"
  }
 },
 "nbformat": 4,
 "nbformat_minor": 5
}
